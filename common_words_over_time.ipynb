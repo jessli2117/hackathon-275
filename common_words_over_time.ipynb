{
 "cells": [
  {
   "cell_type": "code",
   "execution_count": 1,
   "metadata": {
    "scrolled": true
   },
   "outputs": [
    {
     "name": "stdout",
     "output_type": "stream",
     "text": [
      "['i', 'me', 'my', 'myself', 'we', 'our', 'ours', 'ourselves', 'you', \"you're\", \"you've\", \"you'll\", \"you'd\", 'your', 'yours', 'yourself', 'yourselves', 'he', 'him', 'his', 'himself', 'she', \"she's\", 'her', 'hers', 'herself', 'it', \"it's\", 'its', 'itself', 'they', 'them', 'their', 'theirs', 'themselves', 'what', 'which', 'who', 'whom', 'this', 'that', \"that'll\", 'these', 'those', 'am', 'is', 'are', 'was', 'were', 'be', 'been', 'being', 'have', 'has', 'had', 'having', 'do', 'does', 'did', 'doing', 'a', 'an', 'the', 'and', 'but', 'if', 'or', 'because', 'as', 'until', 'while', 'of', 'at', 'by', 'for', 'with', 'about', 'against', 'between', 'into', 'through', 'during', 'before', 'after', 'above', 'below', 'to', 'from', 'up', 'down', 'in', 'out', 'on', 'off', 'over', 'under', 'again', 'further', 'then', 'once', 'here', 'there', 'when', 'where', 'why', 'how', 'all', 'any', 'both', 'each', 'few', 'more', 'most', 'other', 'some', 'such', 'no', 'nor', 'not', 'only', 'own', 'same', 'so', 'than', 'too', 'very', 's', 't', 'can', 'will', 'just', 'don', \"don't\", 'should', \"should've\", 'now', 'd', 'll', 'm', 'o', 're', 've', 'y', 'ain', 'aren', \"aren't\", 'couldn', \"couldn't\", 'didn', \"didn't\", 'doesn', \"doesn't\", 'hadn', \"hadn't\", 'hasn', \"hasn't\", 'haven', \"haven't\", 'isn', \"isn't\", 'ma', 'mightn', \"mightn't\", 'mustn', \"mustn't\", 'needn', \"needn't\", 'shan', \"shan't\", 'shouldn', \"shouldn't\", 'wasn', \"wasn't\", 'weren', \"weren't\", 'won', \"won't\", 'wouldn', \"wouldn't\"]\n"
     ]
    },
    {
     "name": "stderr",
     "output_type": "stream",
     "text": [
      "[nltk_data] Downloading package stopwords to\n",
      "[nltk_data]     C:\\Users\\Rei_John\\AppData\\Roaming\\nltk_data...\n",
      "[nltk_data]   Package stopwords is already up-to-date!\n"
     ]
    }
   ],
   "source": [
    "import pandas as pd\n",
    "import re\n",
    "import collections\n",
    "import nltk\n",
    "from nltk.tokenize import sent_tokenize, word_tokenize\n",
    "from nltk.corpus import stopwords\n",
    "main = pd.read_csv('lyrics (1).csv')\n",
    "nltk.download('stopwords')\n",
    "main1 = main.set_index(\"year\", drop = False)\n",
    "print(stopwords.words('english'))\n"
   ]
  },
  {
   "cell_type": "code",
   "execution_count": 2,
   "metadata": {},
   "outputs": [],
   "source": [
    "first = main1[(main1.year>1958) & (main1.year<1970)]\n",
    "second = main1[(main1.year>1969) & (main1.year<1980)]\n",
    "third = main1[(main1.year>1979) & (main1.year<1990)]\n",
    "fourth = main1[(main1.year>1989) & (main1.year<2000)]\n",
    "fifth = main1[(main1.year>1999) & (main1.year<2010)]\n",
    "sixth = main1[(main1.year>2009) & (main1.year<2020)]"
   ]
  },
  {
   "cell_type": "code",
   "execution_count": 4,
   "metadata": {},
   "outputs": [
    {
     "data": {
      "text/plain": [
       "str"
      ]
     },
     "execution_count": 4,
     "metadata": {},
     "output_type": "execute_result"
    }
   ],
   "source": [
    "type(fourth['lyrics'].iloc[0])"
   ]
  },
  {
   "cell_type": "code",
   "execution_count": 14,
   "metadata": {},
   "outputs": [],
   "source": [
    "def clean(text):\n",
    "    ### clean a lyric string\n",
    "    # split string into lines\n",
    "    if isinstance(text, str):\n",
    "        #print(text)\n",
    "        text = text.split('\\n')\n",
    "        # drop missing lines\n",
    "        text = [i for i in text if i]\n",
    "        # drop bracketed lines (e.g. producer info, song part indicators)\n",
    "        text = [i for i in text if i[0]!='[']\n",
    "        # join back into single string\n",
    "        text = ' '.join(text)\n",
    "        # filter out non-alpha-numeric characters \n",
    "        text = re.sub(r'[^\\s\\w]+', '', text)\n",
    "        # strip capitalization\n",
    "        text = text.lower()\n",
    "        # drop stopwords\n",
    "        text = ' '.join([i for i in text.split() if i not in stopwords])\n",
    "    return text"
   ]
  },
  {
   "cell_type": "code",
   "execution_count": 4,
   "metadata": {
    "scrolled": true
   },
   "outputs": [],
   "source": [
    "first2 = first['lyrics'].map(clean)\n",
    "second2 = second['lyrics'].map(clean)\n",
    "third2 = third['lyrics'].map(clean)\n",
    "fourth2 = fourth['lyrics'].map(clean)\n",
    "fifth2 = fifth['lyrics'].map(clean)\n",
    "sixth2 = sixth['lyrics'].map(clean)"
   ]
  },
  {
   "cell_type": "code",
   "execution_count": 5,
   "metadata": {},
   "outputs": [
    {
     "data": {
      "text/plain": [
       "year\n",
       "1959    1814 took little trip along colonel jackson mi...\n",
       "1959    well north carolina way back hills old pappy s...\n",
       "1959    well ive traveler life never took home never t...\n",
       "1959    long ago poor heart broken said crazy heart se...\n",
       "1959    heartache number one left never knew could hur...\n",
       "                              ...                        \n",
       "1969                                                  NaN\n",
       "1969                                                  NaN\n",
       "1969    one name heart one ill remain thats heartaches...\n",
       "1969    delia oh delia long buddys talkin bout delia s...\n",
       "1969                                                  NaN\n",
       "Name: lyrics, Length: 447, dtype: object"
      ]
     },
     "execution_count": 5,
     "metadata": {},
     "output_type": "execute_result"
    }
   ],
   "source": [
    "first2"
   ]
  },
  {
   "cell_type": "code",
   "execution_count": 15,
   "metadata": {},
   "outputs": [
    {
     "data": {
      "text/plain": [
       "{'back',\n",
       " 'cant',\n",
       " 'cause',\n",
       " 'come',\n",
       " 'could',\n",
       " 'dont',\n",
       " 'every',\n",
       " 'get',\n",
       " 'go',\n",
       " 'got',\n",
       " 'ill',\n",
       " 'im',\n",
       " 'ive',\n",
       " 'know',\n",
       " 'let',\n",
       " 'like',\n",
       " 'little',\n",
       " 'long',\n",
       " 'make',\n",
       " 'never',\n",
       " 'oh',\n",
       " 'one',\n",
       " 'right',\n",
       " 'said',\n",
       " 'say',\n",
       " 'see',\n",
       " 'still',\n",
       " 'take',\n",
       " 'thats',\n",
       " 'theres',\n",
       " 'think',\n",
       " 'way',\n",
       " 'well',\n",
       " 'would',\n",
       " 'yeah',\n",
       " 'youre'}"
      ]
     },
     "execution_count": 15,
     "metadata": {},
     "output_type": "execute_result"
    }
   ],
   "source": [
    "from collections import Counter\n",
    "words = re.findall(r'\\w+', allwords(main1['lyrics']))\n",
    "word_counts = Counter(words)\n",
    "stoppies= [ a for a,b in list(word_counts.most_common(50))]\n",
    "sw_set = set(stoppies)\n",
    "sw_set -= {'aint', 'baby', 'day', 'girl', 'gonna', 'good', 'heart', 'life', 'love', 'man', 'night', 'old', 'shes', 'time'} \n",
    "sw_set"
   ]
  },
  {
   "cell_type": "code",
   "execution_count": 17,
   "metadata": {},
   "outputs": [
    {
     "name": "stdout",
     "output_type": "stream",
     "text": [
      "{'however', 'thats', 'seems', 'become', 'sometimes', 'once', 'those', 'must', 'otherwise', 'ever', 'latter', 'behind', 'seeming', 'third', 'thereafter', 'being', 'were', 'its', 'yeah', 'are', 'after', 'noone', 'anyhow', 'ten', 'have', 'more', 'upon', 'inc', 'side', 'others', 'let', 'front', 'said', 'every', 'theres', 'your', 'twenty', 'seemed', 'think', 'detail', 'none', 'anywhere', 'last', 'is', 'whence', 'with', 'ours', 'own', 'from', 'mine', 'done', 'the', 'enough', 'during', 'whether', 'describe', 'due', 'youre', 'both', 'you', 'amongst', 'him', 'now', 'full', 'etc', 'next', 'fill', 'what', 'another', 'can', 'keep', 'anyway', 'eleven', 'above', 'since', 'then', 'except', 'while', 'everything', 'as', 'nobody', 'whereas', 'here', 'his', 'though', 'same', 'themselves', 'off', 'up', 'too', 'wherever', 'all', 'onto', 'like', 'toward', 'such', 'myse\"', 'cannot', 'of', 'something', 'top', 'under', 'name', 'do', 'no', 'de', 'out', 'sincere', 'how', 'several', 'still', 'without', 'although', 'on', 'they', 'fifteen', 'throughout', 'whatever', 'ourselves', 'thus', 'former', 'call', 'hasnt', 'im', 'within', 'say', 'co', 'wherein', 'six', 'therein', 'give', 'me', 'into', 'namely', 'formerly', 'please', 'hers', 'himse\"', 'anyone', 'should', 'thereby', 'thick', 'almost', 'again', 'below', 'could', 'across', 'find', 'to', 'where', 'got', 'cause', 'am', 'whoever', 'whereafter', 'show', 'move', 'come', 'herse\"', 'was', 'whole', 'a', 'put', 'very', 'see', 'couldnt', 'any', 'ill', 'three', 'together', 'seem', 'among', 'whereby', 'than', 'it', 'often', 'over', 'forty', 'somehow', 'our', 'cry', 'hereafter', 'therefore', 'us', 'will', 'because', 'nor', 'through', 'empty', 'yourselves', 'already', 'in', 'thence', 're', 'whenever', 'down', 'whose', 'long', 'her', 'bill', 'yours', 'much', 'other', 'eight', 'twelve', 'rather', 'know', 'con', 'sixty', 'towards', 'each', 'go', 'he', 'back', 'only', 'first', 'little', 'along', 'mostly', 'ive', 'so', 'serious', 'thereupon', 'been', 'found', 'or', 'further', 'has', 'this', 'not', 'why', 'ltd', 'nine', 'less', 'least', 'who', 'beside', 'around', 'made', 'get', 'meanwhile', 'becomes', 'well', 'she', 'elsewhere', 'may', 'someone', 'herein', 'would', 'five', 'cant', 'if', 'part', 'at', 'amount', 'an', 'whom', 'yet', 'about', 'hundred', 'make', 'before', 'neither', 'amoungst', 'even', 'everywhere', 'ie', 'dont', 'take', 'eg', 'hereupon', 'there', 'until', 'fify', 'perhaps', 'some', 'interest', 'two', 'and', 'besides', 'nowhere', 'indeed', 'nevertheless', 'might', 'many', 'nothing', 'also', 'via', 'system', 'few', 'afterwards', 'against', 'computer', 'by', 'either', 'sometime', 'which', 'one', 'mill', 'four', 'latterly', 'way', 'when', 'alone', 'becoming', 'but', 'always', 'that', 'bottom', 'hence', 'thru', 'anything', 'my', 'whither', 'never', 'them', 'per', 'between', 'everyone', 'most', 'their', 'hereby', 'moreover', 'for', 'un', 'these', 'thin', 'oh', 'itse\"', 'became', 'had', 'beyond', 'be', 'beforehand', 'somewhere', 'yourself', 'else', 'fire', 'whereupon', 'right'}\n"
     ]
    }
   ],
   "source": [
    "stopwords = set(line.strip() for line in open('stopwords.txt'))\n",
    "stopwords = stopwords.union(sw_set)\n",
    "print(stopwords)\n",
    "first2 = first['lyrics'].map(clean)\n",
    "second2 = second['lyrics'].map(clean)\n",
    "third2 = third['lyrics'].map(clean)\n",
    "fourth2 = fourth['lyrics'].map(clean)\n",
    "fifth2 = fifth['lyrics'].map(clean)\n",
    "sixth2 = sixth['lyrics'].map(clean)"
   ]
  },
  {
   "cell_type": "code",
   "execution_count": 20,
   "metadata": {},
   "outputs": [],
   "source": [
    "def allwords(corp):\n",
    "    return \" \".join(corp[corp.notnull()].values)\n",
    "allfirst = allwords(first2)\n",
    "allsecond = allwords(second2)\n",
    "allthird = allwords(third2)\n",
    "allfourth = allwords(fourth2)\n",
    "allfifth = allwords(fifth2)\n",
    "allsixth = allwords(sixth2)"
   ]
  },
  {
   "cell_type": "code",
   "execution_count": 25,
   "metadata": {},
   "outputs": [
    {
     "name": "stdout",
     "output_type": "stream",
     "text": [
      "{'however', 'thats', 'seems', 'become', 'sometimes', 'once', 'those', 'must', 'otherwise', 'ever', 'latter', 'behind', 'seeming', 'third', 'thereafter', 'being', 'were', 'its', 'yeah', 'are', 'after', 'noone', 'anyhow', 'ten', 'have', 'more', 'upon', 'inc', 'side', 'others', 'let', 'front', 'said', 'every', 'theres', 'your', 'twenty', 'seemed', 'think', 'detail', 'none', 'anywhere', 'last', 'is', 'whence', 'with', 'ours', 'own', 'from', 'mine', 'done', 'the', 'enough', 'during', 'whether', 'describe', 'due', 'youre', 'both', 'you', 'amongst', 'him', 'now', 'full', 'etc', 'next', 'fill', 'what', 'another', 'can', 'keep', 'anyway', 'eleven', 'above', 'since', 'then', 'except', 'while', 'everything', 'as', 'nobody', 'whereas', 'here', 'his', 'though', 'same', 'themselves', 'off', 'up', 'too', 'wherever', 'all', 'onto', 'like', 'toward', 'such', 'myse\"', 'cannot', 'of', 'something', 'top', 'under', 'name', 'do', 'no', 'de', 'out', 'sincere', 'how', 'several', 'still', 'without', 'although', 'on', 'they', 'fifteen', 'throughout', 'whatever', 'ourselves', 'thus', 'former', 'call', 'hasnt', 'im', 'within', 'say', 'co', 'wherein', 'six', 'therein', 'give', 'me', 'into', 'namely', 'formerly', 'please', 'hers', 'himse\"', 'anyone', 'should', 'thereby', 'thick', 'almost', 'again', 'below', 'could', 'across', 'find', 'to', 'where', 'got', 'cause', 'am', 'whoever', 'whereafter', 'show', 'move', 'come', 'herse\"', 'was', 'whole', 'a', 'put', 'very', 'see', 'couldnt', 'any', 'ill', 'three', 'together', 'seem', 'among', 'whereby', 'than', 'it', 'often', 'over', 'forty', 'somehow', 'our', 'cry', 'hereafter', 'therefore', 'us', 'will', 'because', 'nor', 'through', 'empty', 'yourselves', 'already', 'in', 'thence', 're', 'whenever', 'down', 'whose', 'long', 'her', 'bill', 'yours', 'much', 'other', 'eight', 'twelve', 'rather', 'know', 'con', 'sixty', 'towards', 'each', 'go', 'he', 'back', 'only', 'first', 'little', 'along', 'mostly', 'ive', 'so', 'serious', 'thereupon', 'been', 'found', 'or', 'further', 'has', 'this', 'not', 'why', 'ltd', 'nine', 'less', 'least', 'who', 'beside', 'around', 'made', 'get', 'meanwhile', 'becomes', 'well', 'she', 'elsewhere', 'may', 'someone', 'herein', 'would', 'five', 'cant', 'if', 'part', 'at', 'amount', 'an', 'whom', 'yet', 'about', 'hundred', 'make', 'before', 'neither', 'amoungst', 'even', 'everywhere', 'ie', 'dont', 'take', 'eg', 'hereupon', 'there', 'until', 'fify', 'perhaps', 'some', 'interest', 'two', 'and', 'besides', 'nowhere', 'indeed', 'nevertheless', 'might', 'many', 'nothing', 'also', 'via', 'system', 'few', 'afterwards', 'against', 'computer', 'by', 'either', 'sometime', 'which', 'one', 'mill', 'four', 'latterly', 'way', 'when', 'alone', 'becoming', 'but', 'always', 'that', 'bottom', 'hence', 'thru', 'anything', 'my', 'whither', 'never', 'them', 'per', 'between', 'everyone', 'most', 'their', 'hereby', 'moreover', 'for', 'un', 'these', 'thin', 'oh', 'itse\"', 'became', 'had', 'beyond', 'be', 'beforehand', 'somewhere', 'yourself', 'else', 'fire', 'whereupon', 'right'}\n",
      "How many most common words to print: 10\n",
      "\n",
      "OK. The 10 most common words are as follows\n",
      "\n",
      "love :  543\n",
      "time :  251\n",
      "gonna :  191\n",
      "man :  190\n",
      "heart :  173\n",
      "old :  162\n",
      "going :  142\n",
      "world :  141\n",
      "away :  136\n",
      "big :  131\n",
      "[('love', 543), ('time', 251), ('gonna', 191), ('man', 190), ('heart', 173), ('old', 162), ('going', 142), ('world', 141), ('away', 136), ('big', 131)]\n"
     ]
    }
   ],
   "source": [
    "import collections\n",
    "import pandas as pd\n",
    "import matplotlib.pyplot as plt\n",
    "%matplotlib inline\n",
    "# Stopwords\n",
    "stopwords = set(line.strip() for line in open('stopwords.txt'))\n",
    "stopwords = stopwords.union(sw_set)\n",
    "print(stopwords)\n",
    "# Instantiate a dictionary, and for every word in the file, \n",
    "# Add to the dictionary if it doesn't exist. If it does, increase the count.\n",
    "\n",
    "# To eliminate duplicates, remember to split by punctuation, and use case demiliters\n",
    "def commonWords(x):\n",
    "    wordcount = {}\n",
    "    i = 0\n",
    "    for word in (x.split(\" \")):\n",
    "        #pint(word)\n",
    "        if word not in wordcount:\n",
    "            wordcount[word] = 1\n",
    "        else:\n",
    "            wordcount[word] += 1\n",
    "        i += 1\n",
    "    return wordcount\n",
    "# Print most common word\n",
    "n_print = int(input(\"How many most common words to print: \"))\n",
    "print(\"\\nOK. The {} most common words are as follows\\n\".format(n_print))\n",
    "word_counter = collections.Counter(commonWords(allfirst))\n",
    "word_counter2 = collections.Counter(commonWords(allsecond))\n",
    "word_counter3= collections.Counter(commonWords(allthird))\n",
    "word_counter4 = collections.Counter(commonWords(allfourth))\n",
    "word_counter5 = collections.Counter(commonWords(allfifth))\n",
    "word_counter6 = collections.Counter(commonWords(allsixth))\n",
    "for word, count in word_counter.most_common(n_print):\n",
    "    print(word, \": \", count)\n",
    "# Create a data frame of the most common words \n",
    "# Draw a bar chart\n",
    "nineteen60 = word_counter.most_common(n_print)\n",
    "nineteen70 = word_counter2.most_common(n_print)\n",
    "nineteen80 = word_counter3.most_common(n_print)\n",
    "nineteen90 = word_counter4.most_common(n_print)\n",
    "two00 = word_counter5.most_common(n_print)\n",
    "two10 = word_counter6.most_common(n_print)\n",
    "print(nineteen60)"
   ]
  },
  {
   "cell_type": "code",
   "execution_count": 28,
   "metadata": {},
   "outputs": [
    {
     "name": "stdout",
     "output_type": "stream",
     "text": [
      "         Word  Count\n",
      "60s 0    love    543\n",
      "    1    time    251\n",
      "    2   gonna    191\n",
      "    3     man    190\n",
      "    4   heart    173\n",
      "    5     old    162\n",
      "    6   going    142\n",
      "    7   world    141\n",
      "    8    away    136\n",
      "    9     big    131\n",
      "70s 0    love    737\n",
      "    1    time    329\n",
      "    2     man    232\n",
      "    3    good    201\n",
      "    4     day    172\n",
      "    5   night    169\n",
      "    6    life    166\n",
      "    7  things    149\n",
      "    8   gonna    140\n",
      "    9   world    139\n",
      "80s 0    love   1099\n",
      "    1    time    360\n",
      "    2   heart    318\n",
      "    3    baby    261\n",
      "    4     old    243\n",
      "    5   gonna    237\n",
      "    6   night    207\n",
      "    7    shes    196\n",
      "    8    aint    191\n",
      "    9    good    180\n",
      "90s 0    love    962\n",
      "    1   heart    444\n",
      "    2    time    409\n",
      "    3    aint    355\n",
      "    4   gonna    325\n",
      "    5    baby    306\n",
      "    6    shes    305\n",
      "    7   night    295\n",
      "    8     man    270\n",
      "    9    good    265\n",
      "00s 0    love    758\n",
      "    1    time    478\n",
      "    2    aint    478\n",
      "    3    baby    422\n",
      "    4     day    328\n",
      "    5    good    320\n",
      "    6    life    320\n",
      "    7    girl    288\n",
      "    8     man    288\n",
      "    9   gonna    278\n",
      "10s 0    love    788\n",
      "    1    aint    736\n",
      "    2    baby    723\n",
      "    3    girl    644\n",
      "    4   wanna    596\n",
      "    5   gonna    551\n",
      "    6    time    490\n",
      "    7    good    470\n",
      "    8   night    377\n",
      "    9   heart    301\n"
     ]
    },
    {
     "data": {
      "image/png": "[encoded data removed]",
      "text/plain": [
       "<Figure size 432x288 with 1 Axes>"
      ]
     },
     "metadata": {},
     "output_type": "display_data"
    },
    {
     "data": {
      "image/png": "[encoded data removed]",
      "text/plain": [
       "<Figure size 432x288 with 1 Axes>"
      ]
     },
     "metadata": {},
     "output_type": "display_data"
    },
    {
     "data": {
      "image/png": "[encoded data removed]",
      "text/plain": [
       "<Figure size 432x288 with 1 Axes>"
      ]
     },
     "metadata": {},
     "output_type": "display_data"
    },
    {
     "data": {
      "image/png": "[encoded data removed]",
      "text/plain": [
       "<Figure size 432x288 with 1 Axes>"
      ]
     },
     "metadata": {},
     "output_type": "display_data"
    },
    {
     "data": {
      "image/png": "[encoded data removed]",
      "text/plain": [
       "<Figure size 432x288 with 1 Axes>"
      ]
     },
     "metadata": {},
     "output_type": "display_data"
    },
    {
     "data": {
      "image/png": "[encoded data removed]",
      "text/plain": [
       "<Figure size 432x288 with 1 Axes>"
      ]
     },
     "metadata": {},
     "output_type": "display_data"
    }
   ],
   "source": [
    "nineteen60 = word_counter.most_common(n_print)\n",
    "nineteen70 = word_counter2.most_common(n_print)\n",
    "nineteen80 = word_counter3.most_common(n_print)\n",
    "nineteen90 = word_counter4.most_common(n_print)\n",
    "two00 = word_counter5.most_common(n_print)\n",
    "two10 = word_counter6.most_common(n_print)\n",
    "\n",
    "df = pd.DataFrame(nineteen60, columns = ['Word', 'Count'])\n",
    "#print(df)\n",
    "df.plot.bar(x='Word',y='Count')\n",
    "sf = pd.DataFrame(nineteen70, columns = ['Word', 'Count'])\n",
    "#print(sf)\n",
    "sf.plot.bar(x='Word',y='Count')\n",
    "tf = pd.DataFrame(nineteen80, columns = ['Word', 'Count'])\n",
    "#print(tf)\n",
    "tf.plot.bar(x='Word',y='Count')\n",
    "ff = pd.DataFrame(nineteen90, columns = ['Word', 'Count'])\n",
    "#print(ff)\n",
    "ff.plot.bar(x='Word',y='Count')\n",
    "of = pd.DataFrame(two00, columns = ['Word', 'Count'])\n",
    "#print(of)\n",
    "of.plot.bar(x='Word',y='Count')\n",
    "xf = pd.DataFrame(two10, columns = ['Word', 'Count'])\n",
    "#print(xf)\n",
    "xf.plot.bar(x='Word',y='Count')\n",
    "\n",
    "frames = [df, sf, tf, ff, of, xf]\n",
    "final = pd.concat(frames, keys = ['60s', '70s', '80s', '90s', '00s', '10s'])\n",
    "print(final)\n"
   ]
  },
  {
   "cell_type": "code",
   "execution_count": null,
   "metadata": {},
   "outputs": [],
   "source": []
  },
  {
   "cell_type": "code",
   "execution_count": null,
   "metadata": {},
   "outputs": [],
   "source": []
  }
 ],
 "metadata": {
  "kernelspec": {
   "display_name": "Python 3",
   "language": "python",
   "name": "python3"
  },
  "language_info": {
   "codemirror_mode": {
    "name": "ipython",
    "version": 3
   },
   "file_extension": ".py",
   "mimetype": "text/x-python",
   "name": "python",
   "nbconvert_exporter": "python",
   "pygments_lexer": "ipython3",
   "version": "3.6.3"
  }
 },
 "nbformat": 4,
 "nbformat_minor": 2
}
