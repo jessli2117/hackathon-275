{
 "cells": [
  {
   "cell_type": "markdown",
   "metadata": {},
   "source": [
    "# Is Country Music a Caricature of American Identity?"
   ]
  },
  {
   "cell_type": "code",
   "execution_count": 215,
   "metadata": {},
   "outputs": [],
   "source": [
    "import requests\n",
    "import urllib.request\n",
    "import time\n",
    "from bs4 import BeautifulSoup\n",
    "import numpy as np\n",
    "import pandas as pd"
   ]
  },
  {
   "cell_type": "markdown",
   "metadata": {},
   "source": [
    "## Webscraping + Cleaning\n",
    "We were deciding on what would be the best start of the project and we figured it would be to garner the data of all the biggest hits through time. With that information we can derive anything regarding the biggest country artists, songs and their lyrics and time, which can be an indicator on what our questions would eventually lead to."
   ]
  },
  {
   "cell_type": "markdown",
   "metadata": {},
   "source": [
    "### Webscraping Billboard's Top (<=50) Country Songs per Year (on 5-21-YYYY) from 1959-2019"
   ]
  },
  {
   "cell_type": "code",
   "execution_count": 216,
   "metadata": {},
   "outputs": [],
   "source": [
    "# Getting the URL to request the data from\n",
    "def change_url(first_year):\n",
    "    return \"https://www.billboard.com/charts/country-songs/\"+str(year)+\"-05-25\""
   ]
  },
  {
   "cell_type": "code",
   "execution_count": 228,
   "metadata": {},
   "outputs": [],
   "source": [
    "## Webscraping and Cleaning\n",
    "songs = \"\"\n",
    "for year in range(1959,2020): # iterate through all the years\n",
    "    url = change_url(year)\n",
    "    response = requests.get(url)\n",
    "    soup = BeautifulSoup(response.text, 'html.parser')\n",
    "\n",
    "    ranks = len(soup.select(\"[class~=chart-list-item]\"))\n",
    "    for rank in range(0,ranks):\n",
    "        current_song = str(soup.select(\"[class~=chart-list-item]\")[rank])\n",
    "        current_song = current_song.split('>')[0].split(\"<div class\")[1:]\n",
    "        \n",
    "        for i in range(0,len(current_song)): # all the different columns/descriptors\n",
    "            descrip = current_song[i].replace('\\\"',\"\")\n",
    "            descrip = current_song[i].split('data-')[1:]\n",
    "            # cleaning each aspect of a column\n",
    "            for element in range(0,len(descrip)):\n",
    "                no_tags = descrip[element].split('=')[1].replace(\",\", \" \")\n",
    "                songs += str(no_tags) + \",\"\n",
    "            songs = songs.replace('\\\"',\"\")\n",
    "            songs += str(year) + \"\\n\"\n",
    "    \n",
    "# add column names to dataset\n",
    "columns = \"artist,data-has-content,rank,song,year\\n\"   \n",
    "songs = columns+songs"
   ]
  },
  {
   "cell_type": "code",
   "execution_count": 223,
   "metadata": {},
   "outputs": [],
   "source": [
    "## Read songs into a long csv\n",
    "outF = open(\"billboard_songs_artists_years.csv\", \"w\")\n",
    "outF.write(songs)\n",
    "outF.close()"
   ]
  },
  {
   "cell_type": "code",
   "execution_count": 234,
   "metadata": {},
   "outputs": [
    {
     "data": {
      "text/html": [
       "<div>\n",
       "<style scoped>\n",
       "    .dataframe tbody tr th:only-of-type {\n",
       "        vertical-align: middle;\n",
       "    }\n",
       "\n",
       "    .dataframe tbody tr th {\n",
       "        vertical-align: top;\n",
       "    }\n",
       "\n",
       "    .dataframe thead th {\n",
       "        text-align: right;\n",
       "    }\n",
       "</style>\n",
       "<table border=\"1\" class=\"dataframe\">\n",
       "  <thead>\n",
       "    <tr style=\"text-align: right;\">\n",
       "      <th></th>\n",
       "      <th>artist</th>\n",
       "      <th>rank</th>\n",
       "      <th>song</th>\n",
       "      <th>year</th>\n",
       "    </tr>\n",
       "  </thead>\n",
       "  <tbody>\n",
       "    <tr>\n",
       "      <th>0</th>\n",
       "      <td>Johnny Horton</td>\n",
       "      <td>1</td>\n",
       "      <td>The Battle Of New Orleans</td>\n",
       "      <td>1959</td>\n",
       "    </tr>\n",
       "    <tr>\n",
       "      <th>1</th>\n",
       "      <td>George Jones</td>\n",
       "      <td>2</td>\n",
       "      <td>White Lightning</td>\n",
       "      <td>1959</td>\n",
       "    </tr>\n",
       "    <tr>\n",
       "      <th>2</th>\n",
       "      <td>Jim Reeves</td>\n",
       "      <td>3</td>\n",
       "      <td>Home</td>\n",
       "      <td>1959</td>\n",
       "    </tr>\n",
       "    <tr>\n",
       "      <th>3</th>\n",
       "      <td>George Morgan</td>\n",
       "      <td>4</td>\n",
       "      <td>I'm In Love Again</td>\n",
       "      <td>1959</td>\n",
       "    </tr>\n",
       "    <tr>\n",
       "      <th>4</th>\n",
       "      <td>Ray Price</td>\n",
       "      <td>5</td>\n",
       "      <td>Heartaches By The Number</td>\n",
       "      <td>1959</td>\n",
       "    </tr>\n",
       "    <tr>\n",
       "      <th>5</th>\n",
       "      <td>Webb Pierce</td>\n",
       "      <td>6</td>\n",
       "      <td>A Thousand Miles Ago</td>\n",
       "      <td>1959</td>\n",
       "    </tr>\n",
       "    <tr>\n",
       "      <th>6</th>\n",
       "      <td>Frankie Miller</td>\n",
       "      <td>7</td>\n",
       "      <td>Black Land Farmer</td>\n",
       "      <td>1959</td>\n",
       "    </tr>\n",
       "    <tr>\n",
       "      <th>7</th>\n",
       "      <td>Skeeter Davis</td>\n",
       "      <td>8</td>\n",
       "      <td>Set Him Free</td>\n",
       "      <td>1959</td>\n",
       "    </tr>\n",
       "    <tr>\n",
       "      <th>8</th>\n",
       "      <td>Johnny Cash</td>\n",
       "      <td>9</td>\n",
       "      <td>Luther Played The Boogie</td>\n",
       "      <td>1959</td>\n",
       "    </tr>\n",
       "    <tr>\n",
       "      <th>9</th>\n",
       "      <td>Johnny Horton</td>\n",
       "      <td>10</td>\n",
       "      <td>When It's Springtime In Alaska (It's Forty Below)</td>\n",
       "      <td>1959</td>\n",
       "    </tr>\n",
       "  </tbody>\n",
       "</table>\n",
       "</div>"
      ],
      "text/plain": [
       "            artist  rank                                               song  \\\n",
       "0   Johnny Horton      1                          The Battle Of New Orleans   \n",
       "1    George Jones      2                                    White Lightning   \n",
       "2      Jim Reeves      3                                               Home   \n",
       "3   George Morgan      4                                  I'm In Love Again   \n",
       "4       Ray Price      5                           Heartaches By The Number   \n",
       "5     Webb Pierce      6                               A Thousand Miles Ago   \n",
       "6  Frankie Miller      7                                  Black Land Farmer   \n",
       "7   Skeeter Davis      8                                       Set Him Free   \n",
       "8     Johnny Cash      9                           Luther Played The Boogie   \n",
       "9   Johnny Horton     10  When It's Springtime In Alaska (It's Forty Below)   \n",
       "\n",
       "   year  \n",
       "0  1959  \n",
       "1  1959  \n",
       "2  1959  \n",
       "3  1959  \n",
       "4  1959  \n",
       "5  1959  \n",
       "6  1959  \n",
       "7  1959  \n",
       "8  1959  \n",
       "9  1959  "
      ]
     },
     "execution_count": 234,
     "metadata": {},
     "output_type": "execute_result"
    }
   ],
   "source": [
    "## Make it into a DataFrame to be able to analyze the data\n",
    "df = pd.read_csv(\"billboard_songs_artists_years.csv\") \n",
    "df = df.drop(columns=[\"data-has-content\"])\n",
    "df.head(10)"
   ]
  },
  {
   "cell_type": "code",
   "execution_count": null,
   "metadata": {},
   "outputs": [],
   "source": []
  }
 ],
 "metadata": {
  "kernelspec": {
   "display_name": "Python 3",
   "language": "python",
   "name": "python3"
  },
  "language_info": {
   "codemirror_mode": {
    "name": "ipython",
    "version": 3
   },
   "file_extension": ".py",
   "mimetype": "text/x-python",
   "name": "python",
   "nbconvert_exporter": "python",
   "pygments_lexer": "ipython3",
   "version": "3.7.1"
  }
 },
 "nbformat": 4,
 "nbformat_minor": 2
}
