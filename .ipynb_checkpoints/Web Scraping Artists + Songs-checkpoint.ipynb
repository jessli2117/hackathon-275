{
 "cells": [
  {
   "cell_type": "markdown",
   "metadata": {},
   "source": [
    "## Billboard Top 20 Songs w/ Artist per Year (On week of 5/21/YYYY)"
   ]
  },
  {
   "cell_type": "code",
   "execution_count": 93,
   "metadata": {},
   "outputs": [],
   "source": [
    "import requests\n",
    "import urllib.request\n",
    "import time\n",
    "from bs4 import BeautifulSoup\n",
    "import numpy as np\n",
    "import pandas as pd"
   ]
  },
  {
   "cell_type": "code",
   "execution_count": 94,
   "metadata": {},
   "outputs": [],
   "source": [
    "def change_url(first_year):\n",
    "    return \"https://www.billboard.com/charts/country-songs/\"+str(year)+\"-05-25\""
   ]
  },
  {
   "cell_type": "code",
   "execution_count": 136,
   "metadata": {},
   "outputs": [
    {
     "name": "stdout",
     "output_type": "stream",
     "text": [
      "[['Johnny Horton,true,1,The Battle Of New Orleans,1959', 'George Jones,true,2,White Lightning,1959', 'Jim Reeves,true,3,Home,1959', \"George Morgan,true,4,I'm In Love Again,1959\", 'Ray Price,true,5,Heartaches By The Number,1959', 'Webb Pierce,true,6,A Thousand Miles Ago,1959', 'Frankie Miller,true,7,Black Land Farmer,1959', 'Skeeter Davis,true,8,Set Him Free,1959', 'Johnny Cash,true,9,Luther Played The Boogie,1959', \"Johnny Horton,true,10,When It's Springtime In Alaska (It's Forty Below),1959\", \"Johnny Cash,true,11,Frankie's Man, Johnny,1959\", 'Carl Belew,true,12,Am I That Easy To Forget,1959', 'Johnny Cash,true,14,You Dreamer You,1959', 'Johnny Cash,true,15,Thanks A Lot,1959', 'Margie,true,16,Poor Old Heartsick Me,1959', 'Ernest Tubb,true,17,I Cried A Tear,1959', 'Don Gibson,true,18,Lonesome Old House,1959', 'Wilma Lee &amp; Stoney Cooper,false,19,Big Midnight Special,1959', \"Johnny Cash,true,20,Don't Take Your Guns To Town,1959\", \"Wilburn Brothers,true,21,Somebody's Back In Town,1959\", \"Hank Thompson,true,22,Anybody's Girl,1959\", 'Kitty Wells,true,23,Mommy For A Day,1959', \"Faron Young,true,24,That's The Way It's Gotta Be,1959\", 'Wilma Lee &amp; Stoney Cooper,true,25,Come Walk With Me,1959', \"Rose Maddox,true,26,Gambler's Love,1959\", 'Eddy Arnold,true,27,Chip Off The Old Block,1959', 'Jimmy Martin,false,28,Night,1959', \"James O'Gwynn,true,29,How Can I Think Of Tomorrow,1959\", \"Bob Gallion,true,30,You Take The Table And I'll Take The Chairs,1959\"]]\n"
     ]
    }
   ],
   "source": [
    "all_songs = []\n",
    "for year in range(1959,1960): # iterate through all the years\n",
    "    url = change_url(year)\n",
    "    response = requests.get(url)\n",
    "    soup = BeautifulSoup(response.text, 'html.parser')\n",
    "    top_songs = []\n",
    "    ranks = len(soup.select(\"[class~=chart-list-item]\"))\n",
    "    for rank in range(0,ranks):\n",
    "        current_song = str(soup.select(\"[class~=chart-list-item]\")[rank]).split('>')[0]\n",
    "        current_song = current_song.split(\"<div class\")[1:]\n",
    "        for song in range(0,len(current_song)):\n",
    "            descrip = current_song[song].split('\" ')[1:]\n",
    "            for element in range(0,len(descrip)):\n",
    "                no_tags = descrip[element].split('=')[1]\n",
    "                no_tags = no_tags.replace('\\\"',\"\")\n",
    "                descrip[element] = no_tags\n",
    "            descrip.append(str(year))\n",
    "            current_song[song] = ','.join(descrip)    \n",
    "        current_song = current_song[0]\n",
    "        top_songs.append(current_song)\n",
    "    all_songs.append(top_songs)\n",
    "        \n",
    "#all_songs.insert(0,['artist',\"data-has-content\",\"rank\",\"song\",\"year\"])    \n",
    "print(all_songs)\n",
    "        \n",
    "    \n"
   ]
  },
  {
   "cell_type": "code",
   "execution_count": null,
   "metadata": {},
   "outputs": [],
   "source": [
    "## write to file\n",
    "\n",
    "    "
   ]
  },
  {
   "cell_type": "code",
   "execution_count": null,
   "metadata": {},
   "outputs": [],
   "source": []
  }
 ],
 "metadata": {
  "kernelspec": {
   "display_name": "Python 3",
   "language": "python",
   "name": "python3"
  },
  "language_info": {
   "codemirror_mode": {
    "name": "ipython",
    "version": 3
   },
   "file_extension": ".py",
   "mimetype": "text/x-python",
   "name": "python",
   "nbconvert_exporter": "python",
   "pygments_lexer": "ipython3",
   "version": "3.7.1"
  }
 },
 "nbformat": 4,
 "nbformat_minor": 2
}
